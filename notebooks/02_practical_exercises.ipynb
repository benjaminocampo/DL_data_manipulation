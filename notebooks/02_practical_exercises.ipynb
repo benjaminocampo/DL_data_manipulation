{
  "nbformat": 4,
  "nbformat_minor": 0,
  "metadata": {
    "colab": {
      "name": "02_practical_exercises.ipynb",
      "provenance": []
    },
    "kernelspec": {
      "name": "python3",
      "display_name": "Python 3"
    },
    "language_info": {
      "name": "python"
    }
  },
  "cells": [
    {
      "cell_type": "markdown",
      "source": [
        "Exercise 1: Encoding\n",
        "\n",
        "Apply a One-hot encoding to each row, both for numeric and categorical variables, to the dataset provided in the next code cell.\n",
        "\n",
        "Exercise 2: PCA\n",
        "\n",
        "Reduce dimensionality with PCA the matrix resulting from exercise 1."
      ],
      "metadata": {
        "id": "-biM3qwpTx60"
      }
    },
    {
      "cell_type": "code",
      "execution_count": 4,
      "metadata": {
        "colab": {
          "base_uri": "https://localhost:8080/"
        },
        "id": "QmfP57NlS5Pn",
        "outputId": "56acd538-e41f-4834-e34f-e50f714303b5"
      },
      "outputs": [
        {
          "output_type": "execute_result",
          "data": {
            "text/plain": [
              "Suburb              0\n",
              "Address             0\n",
              "Rooms               0\n",
              "Type                0\n",
              "Price               0\n",
              "Method              0\n",
              "SellerG             0\n",
              "Date                0\n",
              "Distance            0\n",
              "Postcode            0\n",
              "Bedroom2            0\n",
              "Bathroom            0\n",
              "Car                 0\n",
              "Landsize            0\n",
              "BuildingArea        0\n",
              "CouncilArea         0\n",
              "Lattitude           0\n",
              "Longtitude          0\n",
              "Regionname          0\n",
              "Propertycount       0\n",
              "suburb_count        0\n",
              "CouncilArea_mode    0\n",
              "dtype: int64"
            ]
          },
          "metadata": {},
          "execution_count": 4
        }
      ],
      "source": [
        "import matplotlib.pyplot as plt\n",
        "import numpy\n",
        "import pandas\n",
        "\n",
        "import seaborn\n",
        "seaborn.set_context('talk')\n",
        "pandas.set_option(\"display.max_columns\", None)\n",
        "\n",
        "melb_df = pandas.read_csv('https://www.famaf.unc.edu.ar/~nocampo043/no_nan_values_melb.csv')\n",
        "melb_df[:3]"
      ]
    },
    {
      "cell_type": "code",
      "source": [
        ""
      ],
      "metadata": {
        "id": "detDP6isTVyf"
      },
      "execution_count": null,
      "outputs": []
    }
  ]
}